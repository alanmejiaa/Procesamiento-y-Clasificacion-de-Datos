{
  "cells": [
    {
      "cell_type": "markdown",
      "metadata": {
        "id": "view-in-github",
        "colab_type": "text"
      },
      "source": [
        "<a href=\"https://colab.research.google.com/github/alanmejiaa/Procesamiento-y-Clasificacion-de-Datos/blob/main/Practica%206.ipynb\" target=\"_parent\"><img src=\"https://colab.research.google.com/assets/colab-badge.svg\" alt=\"Open In Colab\"/></a>"
      ]
    },
    {
      "cell_type": "markdown",
      "source": [
        "# **Practica 6**"
      ],
      "metadata": {
        "id": "PkJCiawpM1Tr"
      }
    },
    {
      "cell_type": "markdown",
      "source": [
        "Tomando en cuenta el estado de su proyecto:\n",
        "* Si aun están en el desarrollo de su metodología para el procesamiento de datos, especifiquen, dependiendo de las características que llevan vistas hasta el momento de su conjunto de datos, cual es el tipo de modelo que van a utilizar, explicando cuales son los detalles que les hicieron pensar que ese era el mejor modelo."
      ],
      "metadata": {
        "id": "jRgIYIt-bC45"
      }
    },
    {
      "cell_type": "markdown",
      "source": [
        "Nuestro proyecto habla sobre el Titanic y con ello tenemos conjunto de datos que contiene información sobre los pasajeros a bordo del Titanic, el famoso barco que se hundió en su viaje inaugural en 1912."
      ],
      "metadata": {
        "id": "sRG_2vlHZSyD"
      }
    },
    {
      "cell_type": "markdown",
      "source": [
        "La variable \"Survived\" se elige como la variable de respuesta en análisis y modelos predictivos porque refleja el resultado crítico del evento, es decir, si el pasajero logró sobrevivir al naufragio o no. La predicción de esta variable es valiosa para comprender qué características o factores podrían haber influido en las posibilidades de supervivencia de un pasajero."
      ],
      "metadata": {
        "id": "2PghsVMhZhMv"
      }
    },
    {
      "cell_type": "markdown",
      "source": [
        "Dado que nuestra variable de respuesta esta compuesta por 0 (sobrevive) y 1 (no sobrevive), los modelos más adecuados para este tipo de situaciones podrían ser Regresión Logística, Vecinos más Cercanos (K-Nearest Neighbors), Árboles de Decisión y Máquinas de Soporte Vectorial (Support Vector Machine).\n",
        "\n",
        "\n",
        "\n",
        "\n",
        "\n",
        "\n",
        "\n",
        "\n",
        "\n",
        "\n",
        "\n",
        "\n",
        "\n",
        "\n",
        "\n",
        "\n"
      ],
      "metadata": {
        "id": "pQ-CKjTxW14w"
      }
    },
    {
      "cell_type": "markdown",
      "source": [
        "A continuación, se detallan algunas características distintivas de cada modelo:"
      ],
      "metadata": {
        "id": "ls3uYp25XeqW"
      }
    },
    {
      "cell_type": "markdown",
      "source": [
        "**Regresión Logística:**\n",
        "\n",
        "\n",
        "*   Es relativamente fácil de interpretar y puede ofrecer información sobre la importancia de cada característica.\n",
        "*   Es un modelo lineal que funciona bien cuando existe una relación lineal entre las variables independientes y la variable objetivo.\n",
        "*   Puede no ser tan efectivo si las relaciones entre las variables no son lineales."
      ],
      "metadata": {
        "id": "EELUVZ5nXnu5"
      }
    },
    {
      "cell_type": "markdown",
      "source": [
        "**Vecinos más Cercanos (K-Nearest Neighbors):**\n",
        "\n",
        "*   Puede funcionar bien en presencia de regiones del espacio de características donde las clases están agrupadas.\n",
        "*   Puede ser sensible a la elección del valor de k y ser computacionalmente costoso con conjuntos de datos extensos.\n",
        "*   KNN es un algoritmo de aprendizaje basado en instancias que no hace suposiciones sobre la distribución de los datos."
      ],
      "metadata": {
        "id": "Nhg7gUpFX689"
      }
    },
    {
      "cell_type": "markdown",
      "source": [
        "**Árboles de Decisión:**\n",
        "\n",
        "\n",
        "*   Son fáciles de entender e interpretar, y pueden proporcionar información sobre la importancia de las características.\n",
        "*   Dividen el espacio de características en regiones que corresponden a las clases.\n",
        "*   Pueden sobreajustar el conjunto de entrenamiento si no se controlan adecuadamente.\n",
        "\n"
      ],
      "metadata": {
        "id": "W5ugrPfUYfH1"
      }
    },
    {
      "cell_type": "markdown",
      "source": [
        "**Máquinas de Soporte Vectorial (SVM):**\n",
        "\n",
        "*   Funciona bien en espacios de alta dimensionalidad\n",
        "*   Puede manejar relaciones no lineales mediante el uso de kernels.\n",
        "*   SVM busca encontrar el hiperplano que mejor separa las clases.\n",
        "*   Puede ser sensible a la elección del kernel y otros hiperparámetros."
      ],
      "metadata": {
        "id": "pHBboLx_YHUe"
      }
    },
    {
      "cell_type": "markdown",
      "source": [
        "Dicho lo anterior podemos probar estas regresiones hasta que alguna nos resulte satisfactoria por lo que comenzare con Regresion Lineal que es el modelo con el que mas he trabajado y podremos lograr una interpretacion mas sencilla de resultados. En caso de resultados insatisfactorios, exploraré otros modelos como Vecinos más Cercanos, Máquinas de Soporte Vectorial y Árboles de Decisión para determinar cuál funciona mejor con nuestro conjunto de datos."
      ],
      "metadata": {
        "id": "8VK43jiIYnka"
      }
    }
  ],
  "metadata": {
    "colab": {
      "name": "Welcome To Colaboratory",
      "provenance": [],
      "include_colab_link": true
    },
    "kernelspec": {
      "display_name": "Python 3",
      "name": "python3"
    }
  },
  "nbformat": 4,
  "nbformat_minor": 0
}